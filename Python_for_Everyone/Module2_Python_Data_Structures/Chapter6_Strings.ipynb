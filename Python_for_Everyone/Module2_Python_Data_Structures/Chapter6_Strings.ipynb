{
 "cells": [
  {
   "cell_type": "markdown",
   "id": "961a63c0",
   "metadata": {},
   "source": [
    "# 6.1 Strings"
   ]
  },
  {
   "cell_type": "markdown",
   "id": "2ee8fbe4",
   "metadata": {},
   "source": [
    "## 1. Looping with strings"
   ]
  },
  {
   "cell_type": "code",
   "execution_count": 1,
   "id": "ded812d6",
   "metadata": {},
   "outputs": [
    {
     "name": "stdout",
     "output_type": "stream",
     "text": [
      "b\n",
      "a\n",
      "n\n",
      "a\n",
      "n\n",
      "a\n"
     ]
    }
   ],
   "source": [
    "fruit = 'banana'\n",
    "for letter in fruit:\n",
    "    print(letter)"
   ]
  },
  {
   "cell_type": "markdown",
   "id": "4882d494",
   "metadata": {},
   "source": [
    "## 2. Slicing Strings"
   ]
  },
  {
   "cell_type": "code",
   "execution_count": 1,
   "id": "95dc65cd",
   "metadata": {},
   "outputs": [
    {
     "name": "stdout",
     "output_type": "stream",
     "text": [
      "Mo\n"
     ]
    }
   ],
   "source": [
    "s = 'Monty Python'\n",
    "print(s[0:2]) #':2'means up to 2 but not including 2 "
   ]
  },
  {
   "cell_type": "code",
   "execution_count": 2,
   "id": "c0858d44",
   "metadata": {},
   "outputs": [
    {
     "name": "stdout",
     "output_type": "stream",
     "text": [
      "P\n"
     ]
    }
   ],
   "source": [
    "print(s[6:7]) #from 6 to 7 but not including 7, so leaving us just 6"
   ]
  },
  {
   "cell_type": "code",
   "execution_count": 3,
   "id": "87d6c58e",
   "metadata": {},
   "outputs": [
    {
     "name": "stdout",
     "output_type": "stream",
     "text": [
      "Python\n"
     ]
    }
   ],
   "source": [
    "print(s[6:20]) #from 6 to 20, but we do not have 20, so just 6 to the end"
   ]
  },
  {
   "cell_type": "code",
   "execution_count": 4,
   "id": "fe72543d",
   "metadata": {},
   "outputs": [
    {
     "name": "stdout",
     "output_type": "stream",
     "text": [
      "Monty \n"
     ]
    }
   ],
   "source": [
    "print(s[:6]) #first is blank meaning from the start"
   ]
  },
  {
   "cell_type": "code",
   "execution_count": 5,
   "id": "faae1272",
   "metadata": {},
   "outputs": [
    {
     "name": "stdout",
     "output_type": "stream",
     "text": [
      "ty Python\n"
     ]
    }
   ],
   "source": [
    "print(s[3:]) #last is blank meaning to the end"
   ]
  },
  {
   "cell_type": "code",
   "execution_count": 6,
   "id": "9f877f6a",
   "metadata": {},
   "outputs": [
    {
     "name": "stdout",
     "output_type": "stream",
     "text": [
      "Monty Python\n"
     ]
    }
   ],
   "source": [
    "print(s[:]) #both blank meaning from start to the end"
   ]
  },
  {
   "cell_type": "markdown",
   "id": "84f7a204",
   "metadata": {},
   "source": [
    "## 3. Search a String (find( ))"
   ]
  },
  {
   "cell_type": "code",
   "execution_count": 7,
   "id": "af85673e",
   "metadata": {},
   "outputs": [
    {
     "name": "stdout",
     "output_type": "stream",
     "text": [
      "2\n"
     ]
    }
   ],
   "source": [
    "fruit = 'banana'\n",
    "pos = fruit.find('na')\n",
    "print(pos)"
   ]
  }
 ],
 "metadata": {
  "kernelspec": {
   "display_name": "Python 3 (ipykernel)",
   "language": "python",
   "name": "python3"
  },
  "language_info": {
   "codemirror_mode": {
    "name": "ipython",
    "version": 3
   },
   "file_extension": ".py",
   "mimetype": "text/x-python",
   "name": "python",
   "nbconvert_exporter": "python",
   "pygments_lexer": "ipython3",
   "version": "3.11.5"
  }
 },
 "nbformat": 4,
 "nbformat_minor": 5
}

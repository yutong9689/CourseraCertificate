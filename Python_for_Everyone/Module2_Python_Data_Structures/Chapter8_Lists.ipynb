{
 "cells": [
  {
   "cell_type": "markdown",
   "id": "d6d10f70",
   "metadata": {},
   "source": [
    "## 8.1 Lists"
   ]
  },
  {
   "cell_type": "markdown",
   "id": "c4d87a57",
   "metadata": {},
   "source": [
    "## 1. Lists with loops"
   ]
  },
  {
   "cell_type": "code",
   "execution_count": 1,
   "id": "0120878a",
   "metadata": {},
   "outputs": [
    {
     "name": "stdout",
     "output_type": "stream",
     "text": [
      "Happy New Year: Joseph\n",
      "Happy New Year: Lydia\n",
      "Happy New Year: Mike\n"
     ]
    }
   ],
   "source": [
    "friends = ['Joseph', 'Lydia', 'Mike']\n",
    "for friend in friends:\n",
    "    print('Happy New Year:', friend)"
   ]
  },
  {
   "cell_type": "code",
   "execution_count": 2,
   "id": "27662384",
   "metadata": {},
   "outputs": [
    {
     "name": "stdout",
     "output_type": "stream",
     "text": [
      "Happy New Year: Joseph\n",
      "Happy New Year: Lydia\n",
      "Happy New Year: Mike\n"
     ]
    }
   ],
   "source": [
    "for i in range(len(friends)):   #This for loop does the same thing as the code above\n",
    "    friend = friends[i]\n",
    "    print('Happy New Year:', friend)"
   ]
  },
  {
   "cell_type": "markdown",
   "id": "42e8de4b",
   "metadata": {},
   "source": [
    "## 2. Number of items in lists"
   ]
  },
  {
   "cell_type": "code",
   "execution_count": 7,
   "id": "2dd0a905",
   "metadata": {},
   "outputs": [
    {
     "name": "stdout",
     "output_type": "stream",
     "text": [
      "4\n"
     ]
    }
   ],
   "source": [
    "friends = ['Mike','Joseph', 'Lydia', 'Ada']\n",
    "print(len(friends))"
   ]
  },
  {
   "cell_type": "markdown",
   "id": "20e90551",
   "metadata": {},
   "source": [
    "## 8.2 Manipulating with Lists"
   ]
  },
  {
   "cell_type": "markdown",
   "id": "6779bd1b",
   "metadata": {},
   "source": [
    "## 1. Building a list from scratch (Use .append() )"
   ]
  },
  {
   "cell_type": "code",
   "execution_count": 3,
   "id": "efb8f708",
   "metadata": {},
   "outputs": [
    {
     "name": "stdout",
     "output_type": "stream",
     "text": [
      "['book', '99']\n"
     ]
    }
   ],
   "source": [
    "stuff = list()\n",
    "stuff.append('book')\n",
    "stuff.append('99')\n",
    "print(stuff)"
   ]
  },
  {
   "cell_type": "markdown",
   "id": "cee152af",
   "metadata": {},
   "source": [
    "## 2. Lists are in order"
   ]
  },
  {
   "cell_type": "code",
   "execution_count": 6,
   "id": "25a4d098",
   "metadata": {},
   "outputs": [
    {
     "name": "stdout",
     "output_type": "stream",
     "text": [
      "['Ada', 'Joseph', 'Lydia', 'Mike']\n"
     ]
    }
   ],
   "source": [
    "friends = ['Mike','Joseph', 'Lydia', 'Ada']\n",
    "friends.sort()\n",
    "print(friends)"
   ]
  },
  {
   "cell_type": "markdown",
   "id": "3fcbca84",
   "metadata": {},
   "source": [
    "## 3. Find average by creating lists"
   ]
  },
  {
   "cell_type": "code",
   "execution_count": 8,
   "id": "b0d1a296",
   "metadata": {},
   "outputs": [
    {
     "name": "stdout",
     "output_type": "stream",
     "text": [
      "Enter a number: 7\n",
      "Enter a number: 164\n",
      "Enter a number: 289\n",
      "Enter a number: done\n",
      "Average is  153.33333333333334\n"
     ]
    }
   ],
   "source": [
    "# Calculate the average of the numbers in the input\n",
    "\n",
    "\n",
    "numlist = []                               #create a list for all the inputs\n",
    "while True:                                #\"While True\" is a looping construct in the Python programming language \n",
    "                                           #that allows a block of code to be repeated indefinitely. \n",
    "                                           #It is often used in conjunction with a break statement, \n",
    "                                           #which allows the loop to be exited under certain conditions.\n",
    "\n",
    "\n",
    "    inp = input('Enter a number: ')\n",
    "    if inp == 'done':\n",
    "        break                              #if the user typed input 'done', then end the loop\n",
    "    value = float(inp)                     #convert the value from a string to a float\n",
    "    numlist.append(value)                  #add every input into the empty list\n",
    "average = sum(numlist)/len(numlist)\n",
    "print('Average is ',average)\n",
    "                "
   ]
  },
  {
   "cell_type": "markdown",
   "id": "cb9cc366",
   "metadata": {},
   "source": [
    "## 8.3 Strings and Lists"
   ]
  },
  {
   "cell_type": "markdown",
   "id": "84ae8866",
   "metadata": {},
   "source": [
    "## 1. Split Strings into Lists"
   ]
  },
  {
   "cell_type": "code",
   "execution_count": 10,
   "id": "145e96ee",
   "metadata": {},
   "outputs": [
    {
     "name": "stdout",
     "output_type": "stream",
     "text": [
      "['With', 'three', 'words']\n",
      "3\n"
     ]
    }
   ],
   "source": [
    "abc = 'With three words'\n",
    "stuff = abc.split()\n",
    "print(stuff)\n",
    "print(len(stuff))"
   ]
  },
  {
   "cell_type": "markdown",
   "id": "d31459de",
   "metadata": {},
   "source": [
    "## 2. Pull out the information from lists"
   ]
  },
  {
   "cell_type": "code",
   "execution_count": 11,
   "id": "8e1ec791",
   "metadata": {},
   "outputs": [],
   "source": [
    "#if want to pull out the day from all the sentences like'From stephen.marquard@uct.edu Sat Jan 5 09:14:16 2008' from a file\n",
    "fhand = open('mbox.txt')\n",
    "for line in fhand:\n",
    "    line = line.rstrip()\n",
    "    if not line.startswith('From'):\n",
    "        continue\n",
    "    words = lines.split()\n",
    "    print(words[2])"
   ]
  },
  {
   "cell_type": "markdown",
   "id": "feb99cb6",
   "metadata": {},
   "source": [
    "## 3. Double Splits"
   ]
  },
  {
   "cell_type": "code",
   "execution_count": 14,
   "id": "daa65df2",
   "metadata": {},
   "outputs": [
    {
     "name": "stdout",
     "output_type": "stream",
     "text": [
      "uct.edu\n"
     ]
    }
   ],
   "source": [
    "#Try to pull out 'uct.edu' from the line 'From stephen.marquard@uct.edu Sat Jan 5 09:14:16 2008'\n",
    "\n",
    "line = 'From stephen.marquard@uct.edu Sat Jan 5 09:14:16 2008'\n",
    "words = line.split()             #Split the line into pieces by blank space\n",
    "email = words[1]                 #The email is the position[1] part of the line\n",
    "pieces = email.split('@')        #Split the email into pieces by '@'\n",
    "print(pieces[1])                 #'uct.edu' is the position[1] part of the email\n"
   ]
  },
  {
   "cell_type": "markdown",
   "id": "36a66405",
   "metadata": {},
   "source": [
    "## Exercise 8.4"
   ]
  },
  {
   "cell_type": "code",
   "execution_count": null,
   "id": "e900f7e2",
   "metadata": {},
   "outputs": [],
   "source": [
    "#8.4 Open the file romeo.txt and read it line by line. For each line, split the line into a list of words using \n",
    "#the split() method. The program should build a list of words. For each word on each line check to see if the \n",
    "#word is already in the list and if not append it to the list. When the program completes, sort and print the \n",
    "#resulting words in python sort() order as shown in the desired output."
   ]
  },
  {
   "cell_type": "code",
   "execution_count": null,
   "id": "1e9a8ac3",
   "metadata": {},
   "outputs": [],
   "source": [
    "fname = input(\"Enter file name: \")\n",
    "fh = open(fname)\n",
    "lst = list()                       # list for the desired output\n",
    "for line in fh:                    # to read every line of file romeo.txt\n",
    "    word= line.rstrip().split()    # to eliminate the unwanted blanks and turn the line into a list of words\n",
    "    for element in word:           # check every element in word    \n",
    "        if element in lst:         # if element is repeated\n",
    "            continue               # do nothing\n",
    "        else :                     # else if element is not in the list\n",
    "            lst.append(element)    # append     \n",
    "lst.sort()                         # sort the list (de-indent indicates that you sort when the loop ends)\n",
    "print lst                          # print the list"
   ]
  },
  {
   "cell_type": "code",
   "execution_count": null,
   "id": "a090c0b5",
   "metadata": {},
   "outputs": [],
   "source": [
    "#Output\n",
    "\n",
    "#['Arise', 'But', 'It', 'Juliet', 'Who', 'already', 'and', 'breaks', 'east', 'envious', 'fair', 'grief', \n",
    "#'is', 'kill', 'light', 'moon', 'pale', 'sick', 'soft', 'sun', 'the', 'through', 'what', 'window', 'with', 'yonder']"
   ]
  },
  {
   "cell_type": "markdown",
   "id": "c80bc868",
   "metadata": {},
   "source": [
    "## Exercise 8.5 "
   ]
  },
  {
   "cell_type": "code",
   "execution_count": null,
   "id": "d4a4e2f9",
   "metadata": {},
   "outputs": [],
   "source": [
    "#8.5 Open the file mbox-short.txt and read it line by line. \n",
    "#When you find a line that starts with 'From ' like the following line:\n",
    "#'From stephen.marquard@uct.ac.za Sat Jan  5 09:14:16 2008'\n",
    "#You will parse the From line using split() and print out the second word in the line \n",
    "#(i.e. the entire address of the person who sent the message). Then print out a count at the end.\n",
    "#Hint: make sure not to include the lines that start with 'From:'. "
   ]
  },
  {
   "cell_type": "code",
   "execution_count": null,
   "id": "f20c612a",
   "metadata": {},
   "outputs": [],
   "source": [
    "fname = input(\"Enter file name: \")\n",
    "if len(fname) < 1:\n",
    "    fname = \"mbox-short.txt\"\n",
    "\n",
    "fhand = open(fname)\n",
    "count = 0\n",
    "for line in fhand:\n",
    "    words = line.rstrip().split()\n",
    "    if 'From' in words:\n",
    "        count +=1\n",
    "        print(words[1])\n",
    "    else:\n",
    "        continue\n",
    "    \n",
    "print(\"There were\", count, \"lines in the file with From as the first word\")"
   ]
  },
  {
   "cell_type": "code",
   "execution_count": null,
   "id": "d2ef7772",
   "metadata": {},
   "outputs": [],
   "source": [
    "#Output\n",
    "\n",
    "#stephen.marquard@uct.ac.za\n",
    "louis@media.berkeley.edu\n",
    "zqian@umich.edu\n",
    "rjlowe@iupui.edu\n",
    "zqian@umich.edu\n",
    "rjlowe@iupui.edu\n",
    "cwen@iupui.edu\n",
    "cwen@iupui.edu\n",
    "gsilver@umich.edu\n",
    "gsilver@umich.edu\n",
    "zqian@umich.edu\n",
    "gsilver@umich.edu\n",
    "wagnermr@iupui.edu\n",
    "zqian@umich.edu\n",
    "antranig@caret.cam.ac.uk\n",
    "gopal.ramasammycook@gmail.com\n",
    "david.horwitz@uct.ac.za\n",
    "david.horwitz@uct.ac.za\n",
    "david.horwitz@uct.ac.za\n",
    "david.horwitz@uct.ac.za\n",
    "stephen.marquard@uct.ac.za\n",
    "louis@media.berkeley.edu\n",
    "louis@media.berkeley.edu\n",
    "ray@media.berkeley.edu\n",
    "cwen@iupui.edu\n",
    "cwen@iupui.edu\n",
    "cwen@iupui.edu\n",
    "There were 27 lines in the file with From as the first word"
   ]
  }
 ],
 "metadata": {
  "kernelspec": {
   "display_name": "Python 3 (ipykernel)",
   "language": "python",
   "name": "python3"
  },
  "language_info": {
   "codemirror_mode": {
    "name": "ipython",
    "version": 3
   },
   "file_extension": ".py",
   "mimetype": "text/x-python",
   "name": "python",
   "nbconvert_exporter": "python",
   "pygments_lexer": "ipython3",
   "version": "3.11.5"
  }
 },
 "nbformat": 4,
 "nbformat_minor": 5
}

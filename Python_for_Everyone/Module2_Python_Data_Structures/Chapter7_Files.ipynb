{
 "cells": [
  {
   "cell_type": "markdown",
   "id": "8ee207be",
   "metadata": {},
   "source": [
    "# 7.1 Files"
   ]
  },
  {
   "cell_type": "markdown",
   "id": "cefe056b",
   "metadata": {},
   "source": [
    "## 1. Open files"
   ]
  },
  {
   "cell_type": "code",
   "execution_count": null,
   "id": "98c08d76",
   "metadata": {},
   "outputs": [],
   "source": [
    "xfile = open('mbox.txt')\n",
    "for cheese in xfile:\n",
    "    print(cheese)"
   ]
  },
  {
   "cell_type": "markdown",
   "id": "4164f7d7",
   "metadata": {},
   "source": [
    "## 2. Count lines in a file"
   ]
  },
  {
   "cell_type": "code",
   "execution_count": 1,
   "id": "7ed52b41",
   "metadata": {},
   "outputs": [
    {
     "ename": "FileNotFoundError",
     "evalue": "[Errno 2] No such file or directory: 'mbox.txt'",
     "output_type": "error",
     "traceback": [
      "\u001b[0;31m---------------------------------------------------------------------------\u001b[0m",
      "\u001b[0;31mFileNotFoundError\u001b[0m                         Traceback (most recent call last)",
      "Cell \u001b[0;32mIn[1], line 1\u001b[0m\n\u001b[0;32m----> 1\u001b[0m fhand \u001b[38;5;241m=\u001b[39m \u001b[38;5;28mopen\u001b[39m(\u001b[38;5;124m'\u001b[39m\u001b[38;5;124mmbox.txt\u001b[39m\u001b[38;5;124m'\u001b[39m)\n\u001b[1;32m      2\u001b[0m count \u001b[38;5;241m=\u001b[39m \u001b[38;5;241m0\u001b[39m\n\u001b[1;32m      3\u001b[0m \u001b[38;5;28;01mfor\u001b[39;00m line \u001b[38;5;129;01min\u001b[39;00m fhand:\n",
      "File \u001b[0;32m~/anaconda3/lib/python3.11/site-packages/IPython/core/interactiveshell.py:286\u001b[0m, in \u001b[0;36m_modified_open\u001b[0;34m(file, *args, **kwargs)\u001b[0m\n\u001b[1;32m    279\u001b[0m \u001b[38;5;28;01mif\u001b[39;00m file \u001b[38;5;129;01min\u001b[39;00m {\u001b[38;5;241m0\u001b[39m, \u001b[38;5;241m1\u001b[39m, \u001b[38;5;241m2\u001b[39m}:\n\u001b[1;32m    280\u001b[0m     \u001b[38;5;28;01mraise\u001b[39;00m \u001b[38;5;167;01mValueError\u001b[39;00m(\n\u001b[1;32m    281\u001b[0m         \u001b[38;5;124mf\u001b[39m\u001b[38;5;124m\"\u001b[39m\u001b[38;5;124mIPython won\u001b[39m\u001b[38;5;124m'\u001b[39m\u001b[38;5;124mt let you open fd=\u001b[39m\u001b[38;5;132;01m{\u001b[39;00mfile\u001b[38;5;132;01m}\u001b[39;00m\u001b[38;5;124m by default \u001b[39m\u001b[38;5;124m\"\u001b[39m\n\u001b[1;32m    282\u001b[0m         \u001b[38;5;124m\"\u001b[39m\u001b[38;5;124mas it is likely to crash IPython. If you know what you are doing, \u001b[39m\u001b[38;5;124m\"\u001b[39m\n\u001b[1;32m    283\u001b[0m         \u001b[38;5;124m\"\u001b[39m\u001b[38;5;124myou can use builtins\u001b[39m\u001b[38;5;124m'\u001b[39m\u001b[38;5;124m open.\u001b[39m\u001b[38;5;124m\"\u001b[39m\n\u001b[1;32m    284\u001b[0m     )\n\u001b[0;32m--> 286\u001b[0m \u001b[38;5;28;01mreturn\u001b[39;00m io_open(file, \u001b[38;5;241m*\u001b[39margs, \u001b[38;5;241m*\u001b[39m\u001b[38;5;241m*\u001b[39mkwargs)\n",
      "\u001b[0;31mFileNotFoundError\u001b[0m: [Errno 2] No such file or directory: 'mbox.txt'"
     ]
    }
   ],
   "source": [
    "fhand = open('mbox.txt')\n",
    "count = 0\n",
    "for line in fhand:\n",
    "    count = count + 1\n",
    "print('Line count:', count)"
   ]
  },
  {
   "cell_type": "markdown",
   "id": "4f869335",
   "metadata": {},
   "source": [
    "## 3. Read the whole file"
   ]
  },
  {
   "cell_type": "code",
   "execution_count": null,
   "id": "c834ad6c",
   "metadata": {},
   "outputs": [],
   "source": [
    "fhand = open('mbox.txt')\n",
    "inp = fhand.read()\n",
    "print(len(inp))"
   ]
  },
  {
   "cell_type": "markdown",
   "id": "98163646",
   "metadata": {},
   "source": [
    "## 4. Search through a file"
   ]
  },
  {
   "cell_type": "code",
   "execution_count": null,
   "id": "0796b3c9",
   "metadata": {},
   "outputs": [],
   "source": [
    "fhand = open('mbox.txt')\n",
    "for line in fhand:\n",
    "    line = line.rstrip() #rstrip() helps to strip off the whitespace from the right side of the sentence printed\n",
    "    if line.startswith('From: '):\n",
    "        print(line)"
   ]
  },
  {
   "cell_type": "markdown",
   "id": "460a1b56",
   "metadata": {},
   "source": [
    "## 5. Skipping with Continue"
   ]
  },
  {
   "cell_type": "code",
   "execution_count": null,
   "id": "33c22ccf",
   "metadata": {},
   "outputs": [],
   "source": [
    "fhand = open('mbox.txt')\n",
    "for line in fhand:\n",
    "    line = line.rstrip()\n",
    "    if not line.startswith('From: '):\n",
    "        continue\n",
    "    print(line)\n",
    "#This part of code does the same thing as in part#4 above"
   ]
  },
  {
   "cell_type": "markdown",
   "id": "0dd46bcf",
   "metadata": {},
   "source": [
    "## 6. Using In to select lines"
   ]
  },
  {
   "cell_type": "code",
   "execution_count": null,
   "id": "fd96da79",
   "metadata": {},
   "outputs": [],
   "source": [
    "fhand = open('mbox.txt')\n",
    "for line in fhand:\n",
    "    line = line.rstrip()\n",
    "    if not '@uct.ac.za' in line:\n",
    "        continue\n",
    "    print(line)"
   ]
  },
  {
   "cell_type": "markdown",
   "id": "b90f80ea",
   "metadata": {},
   "source": [
    "## 7. Prompt for file input"
   ]
  },
  {
   "cell_type": "code",
   "execution_count": null,
   "id": "06f1b48b",
   "metadata": {},
   "outputs": [],
   "source": [
    "fname = input('Enter the file name: ')\n",
    "fhand = open(fname)\n",
    "count = 0\n",
    "for line in fhand:\n",
    "    if line.startswith('Subject:'):\n",
    "        count = count+1\n",
    "    print('There were', count,'subject counts in',fname)"
   ]
  },
  {
   "cell_type": "markdown",
   "id": "49de0c9f",
   "metadata": {},
   "source": [
    "## 8. Exercise7.2"
   ]
  },
  {
   "cell_type": "code",
   "execution_count": null,
   "id": "8b3c9c3c",
   "metadata": {},
   "outputs": [],
   "source": [
    "#7.2 Write a program that prompts for a file name, then opens that file and reads through the file, \n",
    "#looking for lines of the form: 'X-DSPAM-Confidence:    0.8475'\n",
    "#Count these lines and extract the floating point values from each of the lines and compute the average of \n",
    "#those values and produce an output as shown below. Do not use the sum() function or a variable named sum in your solution.\n",
    "\n",
    "fname = input(\"Enter file name: \")\n",
    "fhand = open(fname)\n",
    "\n",
    "count = 0    #To count the #of lines with the specific form\n",
    "for line in fhand:\n",
    "    if line.startswith(\"X-DSPAM-Confidence:\") : \n",
    "        count = count + 1\n",
    "\n",
    "total = 0    #To count the total of the floating numbers\n",
    "for line in fhand:\n",
    "    if line.startswith(\"X-DSPAM-Confidence:\"):\n",
    "       cpos = line.find(' ') #To find the position of the blank space, which is before the floating number\n",
    "       line = float(line[cpos:]#To retrieve the floating number, which is from the position of the blank space to the end \n",
    "       total = line + total\n",
    "       \n",
    "average = total/ count  #Count the average by dividing the total by #of lines\n",
    "\n",
    "print(\"Average spam confidence:\",average)\n",
    "\n",
    "\n",
    "#Output: Average spam confidence: 0.7507185185185187"
   ]
  }
 ],
 "metadata": {
  "kernelspec": {
   "display_name": "Python 3 (ipykernel)",
   "language": "python",
   "name": "python3"
  },
  "language_info": {
   "codemirror_mode": {
    "name": "ipython",
    "version": 3
   },
   "file_extension": ".py",
   "mimetype": "text/x-python",
   "name": "python",
   "nbconvert_exporter": "python",
   "pygments_lexer": "ipython3",
   "version": "3.11.5"
  }
 },
 "nbformat": 4,
 "nbformat_minor": 5
}

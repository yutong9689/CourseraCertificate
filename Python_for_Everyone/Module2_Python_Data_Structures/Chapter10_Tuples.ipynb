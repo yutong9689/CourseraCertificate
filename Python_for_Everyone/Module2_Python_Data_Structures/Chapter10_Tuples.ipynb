{
 "cells": [
  {
   "cell_type": "markdown",
   "id": "f2744560",
   "metadata": {},
   "source": [
    "## Chapter10 Tuples"
   ]
  },
  {
   "cell_type": "markdown",
   "id": "78d81c47",
   "metadata": {},
   "source": [
    "## 1. Sorting Tuples by Key"
   ]
  },
  {
   "cell_type": "code",
   "execution_count": 6,
   "id": "7ac8e3a9",
   "metadata": {},
   "outputs": [
    {
     "name": "stdout",
     "output_type": "stream",
     "text": [
      "a 10\n",
      "b 1\n",
      "c 22\n"
     ]
    }
   ],
   "source": [
    "d = {'a':10, 'b':1, 'c':22}\n",
    "d.items()              #Convert dictionary into tuples [('a', 10), ('b', 1), ('c', 22)]\n",
    "t = sorted(d.items())  #sort the tuples in key order\n",
    "t\n",
    "for k,v in t:\n",
    "    print(k,v)"
   ]
  },
  {
   "cell_type": "markdown",
   "id": "2a23947b",
   "metadata": {},
   "source": [
    "## 2. Sorting Tuples by Value"
   ]
  },
  {
   "cell_type": "code",
   "execution_count": 12,
   "id": "94354383",
   "metadata": {},
   "outputs": [
    {
     "name": "stdout",
     "output_type": "stream",
     "text": [
      "[(10, 'a'), (1, 'b'), (22, 'c')]\n",
      "[(22, 'c'), (10, 'a'), (1, 'b')]\n"
     ]
    }
   ],
   "source": [
    "c = {'a':10, 'b':1, 'c':22}\n",
    "tmp = list()             #'tmp'represents a temporary list,it has to be a list because we need to append tuple to it\n",
    "for k,v in c.items():\n",
    "    tmp.append((v,k))    #(v,k) means (value,key)which is a tuple\n",
    "print(tmp)\n",
    "\n",
    "tmp = sorted(tmp,reverse=True)\n",
    "print(tmp)"
   ]
  },
  {
   "cell_type": "markdown",
   "id": "883f6019",
   "metadata": {},
   "source": [
    "## 3. Example: Find the most 10 common words"
   ]
  },
  {
   "cell_type": "code",
   "execution_count": null,
   "id": "d0ad609d",
   "metadata": {},
   "outputs": [],
   "source": [
    "fhand = open('romeo.txt')\n",
    "counts = dict()\n",
    "for line in fhand:\n",
    "    words = line.split()\n",
    "    for word in words:\n",
    "        counts[word]=counts.get(word,0)+1\n",
    "        \n",
    "lst = list()\n",
    "for key,val in counts.items():\n",
    "    newtup = (val,key)\n",
    "    lst.append(newtup)                    #This is a list of tuples in value-key order\n",
    "\n",
    "lst = sorted(list, reverse = True)        #Sort the list descending from the highest value to lowest value order\n",
    "\n",
    "for val,key in lst[:10]:                  #Look for the top 10 value-key tuples in the 'lst'\n",
    "    print(key,val)                        #Reverse the order in the tuple to key-value order when print out"
   ]
  },
  {
   "cell_type": "markdown",
   "id": "1d27d105",
   "metadata": {},
   "source": [
    "## Exercise 10.2 Tuples and Sorting"
   ]
  },
  {
   "cell_type": "code",
   "execution_count": null,
   "id": "40d97f49",
   "metadata": {},
   "outputs": [],
   "source": [
    "#10.2 Write a program to read through the mbox-short.txt and figure out the distribution by hour of the day for \n",
    "#each of the messages. You can pull the hour out from the 'From ' line by finding the time and then splitting the \n",
    "#string a second time using a colon. 'From stephen.marquard@uct.ac.za Sat Jan  5 09:14:16 2008'\n",
    "#Once you have accumulated the counts for each hour, print out the counts, sorted by hour as shown below.\n",
    "\n",
    "04 3\n",
    "06 1\n",
    "07 1\n",
    "09 2\n",
    "10 3\n",
    "11 6\n",
    "14 1\n",
    "15 2\n",
    "16 4\n",
    "17 2\n",
    "18 1\n",
    "19 1"
   ]
  },
  {
   "cell_type": "code",
   "execution_count": null,
   "id": "cc49b9d2",
   "metadata": {},
   "outputs": [],
   "source": [
    "name = raw_input(\"Enter file:\")\n",
    "if len(name) < 1 : name = \"mbox-short.txt\"\n",
    "handle = open(name)\n",
    "\n",
    "d=dict()\n",
    "for line in handle:\n",
    "    if not line.startswith(\"From \"): \n",
    "        continue\n",
    "    else:    \n",
    "        line=line.split()         #To split the line into a list as ['From', 'stephen.marquard@uct.ac.za', 'Sat', 'Jan', '5', '09:14:16', '2008']\n",
    "        line=line[5]              #Retrieve time '09:14:16'from the list, which is index[5]\n",
    "        line=line[0:2]            #Retrieve hour '09'from time, which is index[0:2]\n",
    "        d[line]=d.get(line,0)+1   #Retrieve hours from all lines of the file\n",
    "\n",
    "lst=list()                        #Create an empty list\n",
    "for value,count in d.items():     #for all the values-counts pairs in the tuples of the dictionary d\n",
    "    lst.append((value,count))     #append the tuples into the list\n",
    "\n",
    "lst.sort()                        #sort the list by value of the tuple in ascending order\n",
    "for value,count in lst:           \n",
    "    print (value,count)    "
   ]
  }
 ],
 "metadata": {
  "kernelspec": {
   "display_name": "Python 3 (ipykernel)",
   "language": "python",
   "name": "python3"
  },
  "language_info": {
   "codemirror_mode": {
    "name": "ipython",
    "version": 3
   },
   "file_extension": ".py",
   "mimetype": "text/x-python",
   "name": "python",
   "nbconvert_exporter": "python",
   "pygments_lexer": "ipython3",
   "version": "3.11.5"
  }
 },
 "nbformat": 4,
 "nbformat_minor": 5
}

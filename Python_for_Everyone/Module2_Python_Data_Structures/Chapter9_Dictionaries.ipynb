{
 "cells": [
  {
   "cell_type": "markdown",
   "id": "7668d1d5",
   "metadata": {},
   "source": [
    "## 9.1 Dictionaries"
   ]
  },
  {
   "cell_type": "markdown",
   "id": "ba806234",
   "metadata": {},
   "source": [
    "## 1. Count the # of things appears in the dictionary"
   ]
  },
  {
   "cell_type": "code",
   "execution_count": 3,
   "id": "7a61e4a4",
   "metadata": {},
   "outputs": [
    {
     "name": "stdout",
     "output_type": "stream",
     "text": [
      "{'afe': 2, 'dge': 2, 'kfn': 1}\n"
     ]
    }
   ],
   "source": [
    "counts = dict()\n",
    "names = ['afe','dge','afe','dge','kfn']\n",
    "for name in names:\n",
    "    if name not in counts:               \n",
    "        counts[name]= 1                  #If the name has not appeared in the dictionary,then the count is 1\n",
    "    else:\n",
    "        counts[name] = counts[name] + 1  #If the name has already appeared in the dictionary,then add the count 1\n",
    "print(counts)"
   ]
  },
  {
   "cell_type": "markdown",
   "id": "1c8070d8",
   "metadata": {},
   "source": [
    "## 2. The 'get( )' Method in dictionaries"
   ]
  },
  {
   "cell_type": "code",
   "execution_count": 10,
   "id": "1752bc78",
   "metadata": {},
   "outputs": [
    {
     "name": "stdout",
     "output_type": "stream",
     "text": [
      "{'afe': 2, 'dge': 2, 'kfn': 1}\n"
     ]
    }
   ],
   "source": [
    "#get()is getting the count of the word\n",
    "\n",
    "counts = dict()\n",
    "names = ['afe','dge','afe','dge','kfn']\n",
    "for name in names:\n",
    "    counts[name] = counts.get(name,0) + 1 #'name'is the key that is looking for; 0 is default meaning \n",
    "                                          #it'll otherwise return 0 if the key doesn't exist\n",
    "print(counts)"
   ]
  },
  {
   "cell_type": "markdown",
   "id": "228d8e63",
   "metadata": {},
   "source": [
    "## 3. Definite Loops and Dictionaries"
   ]
  },
  {
   "cell_type": "code",
   "execution_count": 11,
   "id": "bbc6db4f",
   "metadata": {},
   "outputs": [
    {
     "name": "stdout",
     "output_type": "stream",
     "text": [
      "chuck 1\n",
      "fred 42\n",
      "jan 100\n"
     ]
    }
   ],
   "source": [
    "counts = {'chuck':1, 'fred':42, 'jan':100}\n",
    "for key in counts:\n",
    "    print(key, counts[key])"
   ]
  },
  {
   "cell_type": "markdown",
   "id": "7c259bb6",
   "metadata": {},
   "source": [
    "## 9.3 Dictionaries and Files"
   ]
  },
  {
   "cell_type": "markdown",
   "id": "a3e9a736",
   "metadata": {},
   "source": [
    "## 1. Retrieving Lists of Keys and Values from Dictionaries"
   ]
  },
  {
   "cell_type": "code",
   "execution_count": 19,
   "id": "856bf567",
   "metadata": {},
   "outputs": [
    {
     "name": "stdout",
     "output_type": "stream",
     "text": [
      "['chuck', 'fred', 'jan']\n",
      "dict_keys(['chuck', 'fred', 'jan'])\n",
      "dict_values([1, 42, 100])\n",
      "dict_items([('chuck', 1), ('fred', 42), ('jan', 100)])\n",
      "chuck 1\n",
      "fred 42\n",
      "jan 100\n"
     ]
    }
   ],
   "source": [
    "dic = {'chuck':1, 'fred':42, 'jan':100}\n",
    "print(list(dic))      #To get a list of keys\n",
    "print(dic.keys())     #To get a list of keys\n",
    "print(dic.values())   #To get a list of values\n",
    "print(dic.items())    #To get a list of (key,value) tuples\n",
    "\n",
    "for a,b in dic.items(): #To get each of the key-value pairs\n",
    "    print(a,b)\n",
    "    "
   ]
  },
  {
   "cell_type": "markdown",
   "id": "682c86fc",
   "metadata": {},
   "source": [
    "## 2. Find the largest #of counts of the word in a file"
   ]
  },
  {
   "cell_type": "code",
   "execution_count": null,
   "id": "ea3d1493",
   "metadata": {},
   "outputs": [],
   "source": [
    "name = input('Enter file: ')\n",
    "handle = open(name)\n",
    "\n",
    "counts = dict()\n",
    "for line in handle:\n",
    "    words = line.split()\n",
    "    for word in words:\n",
    "        counts[word] = counts.get(word,0) + 1\n",
    "        \n",
    "bigcount = None\n",
    "bigword = None\n",
    "for word,count in counts.items():\n",
    "    if bigcount is None or count > bigcount:\n",
    "        bigword = word\n",
    "        bigcount =count\n",
    "\n",
    "print(bigword,bigcount)\n",
    "\n"
   ]
  },
  {
   "cell_type": "markdown",
   "id": "c628463d",
   "metadata": {},
   "source": [
    "## Exercise 9.4"
   ]
  },
  {
   "cell_type": "code",
   "execution_count": null,
   "id": "c41cfcbf",
   "metadata": {},
   "outputs": [],
   "source": [
    "#9.4 Write a program to read through the mbox-short.txt and figure out who has sent the greatest number of \n",
    "#mail messages. The program looks for 'From ' lines and takes the second word of those lines as the person who \n",
    "#sent the mail. The program creates a Python dictionary that maps the sender's mail address to a count of the \n",
    "#number of times they appear in the file. After the dictionary is produced, the program reads through the \n",
    "#dictionary using a maximum loop to find the most prolific committer."
   ]
  },
  {
   "cell_type": "code",
   "execution_count": null,
   "id": "f2f5fd10",
   "metadata": {},
   "outputs": [],
   "source": [
    "name = input(\"Enter file:\")\n",
    "if len(name) < 1:\n",
    "    name = \"mbox-short.txt\"\n",
    "handle = open(name)\n",
    "\n",
    "lst = list()\n",
    "\n",
    "for line in handle:\n",
    "    if not line.startswith(\"From:\"): continue\n",
    "    line = line.split()\n",
    "    lst.append(line[1])\n",
    "\n",
    "counts = dict()\n",
    "for word in lst:\n",
    "    counts[word] = counts.get(word,0) + 1\n",
    "\n",
    "bigcount = None\n",
    "bigword = None\n",
    "for word,count in counts.items():\n",
    "    if bigcount is None or count > bigcount:\n",
    "        bigword = word\n",
    "        bigcount =count\n",
    "\n",
    "print(bigword,bigcount)"
   ]
  },
  {
   "cell_type": "code",
   "execution_count": null,
   "id": "79757c96",
   "metadata": {},
   "outputs": [],
   "source": [
    "#Output\n",
    "\n",
    "cwen@iupui.edu 5"
   ]
  }
 ],
 "metadata": {
  "kernelspec": {
   "display_name": "Python 3 (ipykernel)",
   "language": "python",
   "name": "python3"
  },
  "language_info": {
   "codemirror_mode": {
    "name": "ipython",
    "version": 3
   },
   "file_extension": ".py",
   "mimetype": "text/x-python",
   "name": "python",
   "nbconvert_exporter": "python",
   "pygments_lexer": "ipython3",
   "version": "3.11.5"
  }
 },
 "nbformat": 4,
 "nbformat_minor": 5
}
